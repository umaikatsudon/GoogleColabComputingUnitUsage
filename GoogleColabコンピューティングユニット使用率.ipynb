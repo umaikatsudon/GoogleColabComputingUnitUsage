{
  "nbformat": 4,
  "nbformat_minor": 0,
  "metadata": {
    "colab": {
      "provenance": [],
      "authorship_tag": "ABX9TyMcsgkqHqHNpromwVHMpvjV",
      "include_colab_link": true
    },
    "kernelspec": {
      "name": "python3",
      "display_name": "Python 3"
    },
    "language_info": {
      "name": "python"
    }
  },
  "cells": [
    {
      "cell_type": "markdown",
      "metadata": {
        "id": "view-in-github",
        "colab_type": "text"
      },
      "source": [
        "<a href=\"https://colab.research.google.com/github/umaikatsudon/GoogleColabComputingUnitUsage/blob/main/GoogleColab%E3%82%B3%E3%83%B3%E3%83%94%E3%83%A5%E3%83%BC%E3%83%86%E3%82%A3%E3%83%B3%E3%82%B0%E3%83%A6%E3%83%8B%E3%83%83%E3%83%88%E4%BD%BF%E7%94%A8%E7%8E%87.ipynb\" target=\"_parent\"><img src=\"https://colab.research.google.com/assets/colab-badge.svg\" alt=\"Open In Colab\"/></a>"
      ]
    },
    {
      "cell_type": "markdown",
      "source": [
        "|GPU名|通常(RAM/VRAM/strage)|ハイメモリ(RAM/VRAM/strage)|\n",
        "|:---:|:---:|:---:|\n",
        "|CPU|0.07 ( 12.7G/------/225.8G)|0.24 (51.0G/------/225.8G)|\n",
        "|A100 GPU|5.44 ( 83.5G/40.0G/235.7G)|7.52 (167.1G/80.0G/235.7G)|\n",
        "|L4 GPU|1.71 ( 53.0G/22.5G/235.7G)|---|\n",
        "|T4 GPU|1.19 ( 12.7G/15.0G/235.7G)|1.41 (51.0G/15.0G/235.7G)|\n",
        "|v6e-1 TPU|3.37 (172.9G/------/225.3G)|---|\n",
        "|v5e-1 TPU|3.28 ( 47.0G/------/225.3G)|---|\n",
        "\n",
        "2025年10月2日\n",
        "プラン：Colab Pro"
      ],
      "metadata": {
        "id": "vJMuuvdMCnZl"
      }
    }
  ]
}